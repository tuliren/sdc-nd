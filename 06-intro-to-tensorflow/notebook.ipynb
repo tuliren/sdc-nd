{
 "cells": [
  {
   "cell_type": "markdown",
   "metadata": {},
   "source": [
    "# Deep Learning\n",
    "- Application\n",
    "  - Lots of data\n",
    "  - Complex problems to solve\n",
    "- Advantage\n",
    "  - Adaptability\n",
    "  - **Common infrastructure**\n",
    "  - **Common language**\n",
    "- From neural networks\n",
    "  - 2009 speech recognition\n",
    "  - 2010 computer vision\n",
    "  - 2014 machine translation\n",
    "- Drivers\n",
    "  - Lots of data\n",
    "  - GPUs"
   ]
  },
  {
   "cell_type": "markdown",
   "metadata": {},
   "source": [
    "# Install TensorFlow\n",
    "\n",
    "## Conda\n",
    "```sh\n",
    "conda create --name=IntroToTensorFlow python=3 anaconda\n",
    "source activate IntroToTensorFlow\n",
    "conda install -c conda-forge tensorflow\n",
    "```\n",
    "\n",
    "## Docker\n",
    "```sh\n",
    "docker run -it -p 8888:8888 gcr.io/tensorflow/tensorflow\n",
    "```"
   ]
  },
  {
   "cell_type": "markdown",
   "metadata": {},
   "source": [
    "# Hello World"
   ]
  },
  {
   "cell_type": "code",
   "execution_count": 1,
   "metadata": {},
   "outputs": [
    {
     "name": "stdout",
     "output_type": "stream",
     "text": [
      "b'Hello World!'\n"
     ]
    }
   ],
   "source": [
    "import tensorflow as tf\n",
    "\n",
    "# Create TensorFlow object called tensor\n",
    "hello_constant = tf.constant('Hello World!')\n",
    "\n",
    "with tf.Session() as sess:\n",
    "    # Run the tf.constant operation in the session\n",
    "    output = sess.run(hello_constant)\n",
    "    print(output)"
   ]
  },
  {
   "cell_type": "markdown",
   "metadata": {},
   "source": [
    "- In tensorflow, data are encapsulated in an object called a tensor.\n",
    "  - `hello_constant` is a 0-dimensional string tensor\n",
    "  - `tf.constant(1234)` 0-dimensional int32 tensor\n",
    "  - `tf.constant([1234, 5678])` 1-dimensional int32 tensor\n",
    "  - `tf.constant([ [123,456,789], [222,333,444] ])` 2-dimensional int32 tensor\n",
    "\n",
    "- A tensorflow session is an environment for running a graph\n",
    "  - In charge of allocating the operations to GPU(s) and/or CPU(s), including remote machines\n",
    "  <img src=\"images/tensorflow-session.png\" width=\"50%\">\n",
    "  - The code creates a session instance, `sess`, using `tf.Session`.\n",
    "  - `sess.run()` evaluates the tensor and returns the results."
   ]
  },
  {
   "cell_type": "markdown",
   "metadata": {},
   "source": [
    "# TensorFlow Input\n",
    "- `tf.placeholder()` returns a tensor that gets its value from data passed to `tf.sesssion.run()`.\n",
    "- `feed_dict` parameter in `tf.session.run()` sets the placeholder tensor."
   ]
  },
  {
   "cell_type": "code",
   "execution_count": 2,
   "metadata": {},
   "outputs": [
    {
     "name": "stdout",
     "output_type": "stream",
     "text": [
      "String\n"
     ]
    }
   ],
   "source": [
    "import tensorflow as tf\n",
    "\n",
    "x = tf.placeholder(tf.string)\n",
    "y = tf.placeholder(tf.int32)\n",
    "z = tf.placeholder(tf.float32)\n",
    "\n",
    "with tf.Session() as sess:\n",
    "    output = sess.run(x, feed_dict={x: 'String', y: 123, z: 45.6})\n",
    "    print(output)"
   ]
  },
  {
   "cell_type": "markdown",
   "metadata": {},
   "source": [
    "# TensorFlow Math\n",
    "- Operations: `tf.add`, `tf.subtract`, `tf.multiply`, `tf.divide`\n",
    "- Types must match\n",
    "- Type cast: `tf.cast(<variable>, tf.<type>)` "
   ]
  }
 ],
 "metadata": {
  "kernelspec": {
   "display_name": "Python 3",
   "language": "python",
   "name": "python3"
  },
  "language_info": {
   "codemirror_mode": {
    "name": "ipython",
    "version": 3
   },
   "file_extension": ".py",
   "mimetype": "text/x-python",
   "name": "python",
   "nbconvert_exporter": "python",
   "pygments_lexer": "ipython3",
   "version": "3.5.2"
  },
  "widgets": {
   "state": {},
   "version": "1.1.2"
  }
 },
 "nbformat": 4,
 "nbformat_minor": 2
}
